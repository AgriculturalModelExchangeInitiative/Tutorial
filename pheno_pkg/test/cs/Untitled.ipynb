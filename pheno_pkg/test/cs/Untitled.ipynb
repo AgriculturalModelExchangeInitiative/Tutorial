{
 "cells": [
  {
   "cell_type": "code",
   "execution_count": 33,
   "metadata": {},
   "outputs": [],
   "source": [
    "import java.util.Date;\n",
    "import java.text.ParseException;\n",
    "import java.text.SimpleDateFormat;"
   ]
  },
  {
   "cell_type": "code",
   "execution_count": 36,
   "metadata": {},
   "outputs": [],
   "source": [
    "SimpleDateFormat format=new SimpleDateFormat(\"yyyy/MM/dd HH:mm:ss\");\n",
    "Date currentdate=null ;\n",
    "try\n",
    "{\n",
    "currentdate = format.parse(\"2007/3/20 12:00:15\");\n",
    "}\n",
    "catch (ParseException e)\n",
    "            {\n",
    "    System.out.println(\"ok\")  ;    }"
   ]
  },
  {
   "cell_type": "code",
   "execution_count": 37,
   "metadata": {},
   "outputs": [
    {
     "data": {
      "text/plain": [
       "Tue Mar 20 12:00:15 CET 2007"
      ]
     },
     "execution_count": 37,
     "metadata": {},
     "output_type": "execute_result"
    }
   ],
   "source": [
    "currentdate\n"
   ]
  },
  {
   "cell_type": "code",
   "execution_count": null,
   "metadata": {},
   "outputs": [],
   "source": []
  }
 ],
 "metadata": {
  "kernelspec": {
   "display_name": "Java",
   "language": "java",
   "name": "java"
  },
  "language_info": {
   "codemirror_mode": "java",
   "file_extension": ".java",
   "mimetype": "text/x-java-source",
   "name": "Java",
   "pygments_lexer": "java",
   "version": "11+28"
  }
 },
 "nbformat": 4,
 "nbformat_minor": 2
}

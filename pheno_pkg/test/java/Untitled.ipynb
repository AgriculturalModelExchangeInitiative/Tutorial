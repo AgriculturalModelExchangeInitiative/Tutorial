{
 "cells": [
  {
   "cell_type": "code",
   "execution_count": 1,
   "metadata": {},
   "outputs": [
    {
     "name": "stderr",
     "output_type": "stream",
     "text": [
      "C:\\Users\\midingoy\\AppData\\Local\\Temp\\tmps26z1wq8.f90:2.8:\n",
      "\n",
      "    use datetime_module, only: datetime, timedelta, clock\n",
      "        1\n",
      "Fatal Error: Can't open module file 'datetime_module.mod' for reading at (1): No such file or directory\n",
      "[Fortran kernel] gfortran exited with code 1, the executable will not be executed"
     ]
    }
   ],
   "source": [
    "program test_time_and_date\n",
    "    use datetime_module, only: datetime, timedelta, clock\n",
    "    character(8)  :: currentdate = \"20170221\"\n",
    "    character(10) :: time\n",
    "    ! using keyword arguments\n",
    "    currentdate = \"20170221\"\n",
    "    call date_and_time(currentdate,time)\n",
    "    print '(a,2x,a,2x,a)', currentdate, time\n",
    "end program test_time_and_date"
   ]
  },
  {
   "cell_type": "code",
   "execution_count": null,
   "metadata": {},
   "outputs": [],
   "source": []
  },
  {
   "cell_type": "code",
   "execution_count": null,
   "metadata": {},
   "outputs": [],
   "source": []
  }
 ],
 "metadata": {
  "kernelspec": {
   "display_name": "Fortran",
   "language": "Fortran",
   "name": "fortran_spec"
  },
  "language_info": {
   "file_extension": "f90",
   "mimetype": "text/plain",
   "name": "fortran"
  }
 },
 "nbformat": 4,
 "nbformat_minor": 2
}

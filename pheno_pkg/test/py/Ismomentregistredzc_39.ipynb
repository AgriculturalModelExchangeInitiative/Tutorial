{
 "cells": [
  {
   "cell_type": "markdown",
   "metadata": {},
   "source": [
    "# Automatic generation of Notebook using PyCropML\n",
    "    This notebook implements a crop model."
   ]
  },
  {
   "cell_type": "markdown",
   "metadata": {},
   "source": [
    "### Model Ismomentregistredzc_39"
   ]
  },
  {
   "cell_type": "code",
   "execution_count": null,
   "metadata": {},
   "outputs": [],
   "source": [
    "# coding: utf8\n",
    "import numpy\n",
    "from math import *\n",
    "\n",
    "def model_ismomentregistredzc_39(calendarMoments = [\"Sowing\"]):\n",
    "    #- Description:\n",
    "    #            - Model Name: Is FlagLeafLiguleJustVisible Model\n",
    "    #            - Author: Pierre Martre\n",
    "    #            - Reference: Modeling development phase in the \n",
    "    #                Wheat Simulation Model SiriusQuality.\n",
    "    #                See documentation at http://www1.clermont.inra.fr/siriusquality/?page_id=427\n",
    "    #            - Institution: INRA Montpellier\n",
    "    #            - Abstract: if FlagLeafLiguleJustVisible is already Registred \n",
    "    #- inputs:\n",
    "    #            - name: calendarMoments\n",
    "    #                          - description : List containing appearance of each stage\n",
    "    #                          - variablecategory : state\n",
    "    #                          - datatype : STRINGLIST\n",
    "    #                          - default : ['Sowing']\n",
    "    #                          - unit : \n",
    "    #                          - inputtype : variable\n",
    "    #- outputs:\n",
    "    #            - name: isMomentRegistredZC_39\n",
    "    #                          - description :  if Flag leaf ligule has already appeared \n",
    "    #                          - variablecategory : state\n",
    "    #                          - datatype : INT\n",
    "    #                          - min : 0\n",
    "    #                          - max : 1\n",
    "    #                          - unit : \n",
    "    isMomentRegistredZC_39 = 1 if \"FlagLeafLiguleJustVisible\" in calendarMoments else 0\n",
    "    return isMomentRegistredZC_39"
   ]
  },
  {
   "cell_type": "code",
   "execution_count": null,
   "metadata": {},
   "outputs": [],
   "source": [
    "params= model_ismomentregistredzc_39(\n",
    "    calendarMoments = [\"Sowing\", \"Emergence\", \"FloralInitiation\", \"FlagLeafLiguleJustVisible\", \"Heading\", \"Anthesis\"],\n",
    "     )\n",
    "print('isMomentRegistredZC_39_estimated =')\n",
    "print(params)\n",
    "# isMomentRegistredZC_39_computed = 1"
   ]
  }
 ],
 "metadata": {},
 "nbformat": 4,
 "nbformat_minor": 2
}

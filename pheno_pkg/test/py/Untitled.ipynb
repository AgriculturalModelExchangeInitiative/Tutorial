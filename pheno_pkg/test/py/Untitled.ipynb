{
 "cells": [
  {
   "cell_type": "code",
   "execution_count": 3,
   "metadata": {},
   "outputs": [],
   "source": [
    "using System;\n",
    "using System.Collections.Generic;\n",
    "public class Test\n",
    "{\n",
    "    public static List<DateTime> test2()\n",
    "    {\n",
    "        List<DateTime>a = new List<DateTime>{ new DateTime(2007, 12, 31),  new DateTime(2008, 11, 20)};\n",
    "        return a;\n",
    "    }\n",
    "}"
   ]
  },
  {
   "cell_type": "code",
   "execution_count": 4,
   "metadata": {},
   "outputs": [
    {
     "data": {
      "text/html": [
       "<font style=\"color:Black\">[\r\n",
       "  &quot;2007-12-31T00:00:00&quot;,\r\n",
       "  &quot;2008-11-20T00:00:00&quot;\r\n",
       "]\r\n",
       "</font>"
      ],
      "text/plain": [
       "[\r\n",
       "  \"2007-12-31T00:00:00\",\r\n",
       "  \"2008-11-20T00:00:00\"\r\n",
       "]\r\n"
      ]
     },
     "metadata": {},
     "output_type": "display_data"
    }
   ],
   "source": [
    "Test.test2()"
   ]
  },
  {
   "cell_type": "code",
   "execution_count": null,
   "metadata": {},
   "outputs": [],
   "source": []
  }
 ],
 "metadata": {
  "kernelspec": {
   "display_name": "C#",
   "language": "csharp",
   "name": "csharp"
  },
  "language_info": {
   "file_extension": ".cs",
   "mimetype": "text/x-csharp",
   "name": "C#",
   "pygments_lexer": "c#",
   "version": "4.0.30319"
  }
 },
 "nbformat": 4,
 "nbformat_minor": 2
}

{
 "cells": [
  {
   "cell_type": "markdown",
   "metadata": {},
   "source": [
    "# Automatic generation of Notebook using PyCropML\n",
    "    This notebook implements a crop model."
   ]
  },
  {
   "cell_type": "markdown",
   "metadata": {},
   "source": [
    "### Model Netradiationequivalentevaporation"
   ]
  },
  {
   "cell_type": "code",
   "execution_count": null,
   "metadata": {},
   "outputs": [],
   "source": [
    "# coding: utf8\n",
    "import numpy\n",
    "from math import *\n",
    "\n",
    "def model_netradiationequivalentevaporation(lambdaV = 2.454,\n",
    "         netRadiation = 1.566):\n",
    "    #- Description:\n",
    "    #            - Model Name: NetRadiationEquivalentEvaporation Model\n",
    "    #            - Author: Pierre Martre\n",
    "    #            - Reference: Modelling energy balance in the wheat crop model SiriusQuality2:\n",
    "    #            Evapotranspiration and canopy and soil temperature calculations\n",
    "    #            - Institution: INRA/LEPSE Montpellier\n",
    "    #            - Abstract:  It is given by dividing net radiation by latent heat of vaporization of water \n",
    "    #- inputs:\n",
    "    #            - name: lambdaV\n",
    "    #                          - description : latent heat of vaporization of water\n",
    "    #                          - parametercategory : constant\n",
    "    #                          - datatype : DOUBLE\n",
    "    #                          - default : 2.454\n",
    "    #                          - min : 0\n",
    "    #                          - max : 10\n",
    "    #                          - unit : MJ kg-1\n",
    "    #                          - uri : http://www1.clermont.inra.fr/siriusquality/?page_id=547\n",
    "    #                          - inputtype : parameter\n",
    "    #            - name: netRadiation\n",
    "    #                          - description : net radiation\n",
    "    #                          - variablecategory : state\n",
    "    #                          - datatype : DOUBLE\n",
    "    #                          - default : 1.566\n",
    "    #                          - min : 0\n",
    "    #                          - max : 5000\n",
    "    #                          - unit : MJ m-2 d-1\n",
    "    #                          - uri : http://www1.clermont.inra.fr/siriusquality/?page_id=547\n",
    "    #                          - inputtype : variable\n",
    "    #- outputs:\n",
    "    #            - name: netRadiationEquivalentEvaporation\n",
    "    #                          - variablecategory : auxiliary\n",
    "    #                          - description : net Radiation in Equivalent Evaporation \n",
    "    #                          - datatype : DOUBLE\n",
    "    #                          - min : 0\n",
    "    #                          - max : 5000\n",
    "    #                          - unit : g m-2 d-1\n",
    "    #                          - uri : http://www1.clermont.inra.fr/siriusquality/?page_id=547\n",
    "    netRadiationEquivalentEvaporation = netRadiation / lambdaV * 1000.0\n",
    "    return netRadiationEquivalentEvaporation"
   ]
  },
  {
   "cell_type": "code",
   "execution_count": null,
   "metadata": {},
   "outputs": [],
   "source": [
    "params= model_netradiationequivalentevaporation(\n",
    "    netRadiation = 1.566,\n",
    "     )\n",
    "print('netRadiationEquivalentEvaporation_estimated =')\n",
    "print(round(params, 3))\n",
    "# netRadiationEquivalentEvaporation_computed = 638.142"
   ]
  }
 ],
 "metadata": {},
 "nbformat": 4,
 "nbformat_minor": 2
}

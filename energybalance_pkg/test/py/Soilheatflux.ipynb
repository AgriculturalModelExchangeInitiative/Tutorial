{
 "cells": [
  {
   "cell_type": "markdown",
   "metadata": {},
   "source": [
    "# Automatic generation of Notebook using PyCropML\n",
    "    This notebook implements a crop model."
   ]
  },
  {
   "cell_type": "markdown",
   "metadata": {},
   "source": [
    "### Model Soilheatflux"
   ]
  },
  {
   "cell_type": "code",
   "execution_count": null,
   "metadata": {},
   "outputs": [],
   "source": [
    "# coding: utf8\n",
    "import numpy\n",
    "from math import *\n",
    "\n",
    "def model_soilheatflux(netRadiationEquivalentEvaporation = 638.142,\n",
    "         tau = 0.9983,\n",
    "         soilEvaporation = 448.24):\n",
    "    #- Description:\n",
    "    #            - Model Name: SoilHeatFlux Model\n",
    "    #            - Author: Pierre Martre\n",
    "    #            - Reference: Modelling energy balance in the wheat crop model SiriusQuality2:\n",
    "    #            Evapotranspiration and canopy and soil temperature calculations\n",
    "    #            - Institution: INRA/LEPSE Montpellier\n",
    "    #            - Abstract: The available energy in the soil \n",
    "    #- inputs:\n",
    "    #            - name: netRadiationEquivalentEvaporation\n",
    "    #                          - variablecategory : state\n",
    "    #                          - description : net Radiation Equivalent Evaporation\n",
    "    #                          - datatype : DOUBLE\n",
    "    #                          - default : 638.142\n",
    "    #                          - min : 0\n",
    "    #                          - max : 5000\n",
    "    #                          - unit : g m-2 d-1\n",
    "    #                          - uri : http://www1.clermont.inra.fr/siriusquality/?page_id=547\n",
    "    #                          - inputtype : variable\n",
    "    #            - name: tau\n",
    "    #                          - description : plant cover factor\n",
    "    #                          - parametercategory : species\n",
    "    #                          - datatype : DOUBLE\n",
    "    #                          - default : 0.9983\n",
    "    #                          - min : 0\n",
    "    #                          - max : 100\n",
    "    #                          - unit : \n",
    "    #                          - uri : http://www1.clermont.inra.fr/siriusquality/?page_id=547\n",
    "    #                          - inputtype : parameter\n",
    "    #            - name: soilEvaporation\n",
    "    #                          - description : soil Evaporation\n",
    "    #                          - variablecategory : state\n",
    "    #                          - datatype : DOUBLE\n",
    "    #                          - default : 448.240\n",
    "    #                          - min : 0\n",
    "    #                          - max : 10000\n",
    "    #                          - unit : g m-2 d-1\n",
    "    #                          - uri : http://www1.clermont.inra.fr/siriusquality/?page_id=547\n",
    "    #                          - inputtype : variable\n",
    "    #- outputs:\n",
    "    #            - name: soilHeatFlux\n",
    "    #                          - description : soil Heat Flux \n",
    "    #                          - variablecategory : rate\n",
    "    #                          - datatype : DOUBLE\n",
    "    #                          - min : 0\n",
    "    #                          - max : 10000\n",
    "    #                          - unit : g m-2 d-1\n",
    "    #                          - uri : http://www1.clermont.inra.fr/siriusquality/?page_id=547\n",
    "    soilHeatFlux = tau * netRadiationEquivalentEvaporation - soilEvaporation\n",
    "    return soilHeatFlux"
   ]
  },
  {
   "cell_type": "code",
   "execution_count": null,
   "metadata": {},
   "outputs": [],
   "source": [
    "params= model_soilheatflux(\n",
    "    tau = 0.9983,\n",
    "    netRadiationEquivalentEvaporation = 638.142,\n",
    "    soilEvaporation = 448.240,\n",
    "     )\n",
    "print('soilHeatFlux_estimated =')\n",
    "print(round(params, 3))\n",
    "# soilHeatFlux_computed = 188.817"
   ]
  }
 ],
 "metadata": {},
 "nbformat": 4,
 "nbformat_minor": 2
}

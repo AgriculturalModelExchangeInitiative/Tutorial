{
 "cells": [
  {
   "cell_type": "markdown",
   "metadata": {},
   "source": [
    "# Automatic generation of Notebook using PyCropML\n",
    "    This notebook implements a crop model."
   ]
  },
  {
   "cell_type": "markdown",
   "metadata": {},
   "source": [
    "### Model Diffusionlimitedevaporation"
   ]
  },
  {
   "cell_type": "code",
   "execution_count": null,
   "metadata": {},
   "outputs": [],
   "source": [
    "# coding: utf8\n",
    "import numpy\n",
    "from math import *\n",
    "\n",
    "def model_diffusionlimitedevaporation(deficitOnTopLayers = 5341.0,\n",
    "         soilDiffusionConstant = 4.2):\n",
    "    #- Description:\n",
    "    #            - Model Name: DiffusionLimitedEvaporation Model\n",
    "    #            - Author: Pierre Martre\n",
    "    #            - Reference: Modelling energy balance in the wheat crop model SiriusQuality2:\n",
    "    #            Evapotranspiration and canopy and soil temperature calculations\n",
    "    #            - Institution: INRA Montpellier\n",
    "    #            - Abstract: the evaporation from the diffusion limited soil \n",
    "    #- inputs:\n",
    "    #            - name: deficitOnTopLayers\n",
    "    #                          - description : deficit On TopLayers\n",
    "    #                          - variablecategory : auxiliary\n",
    "    #                          - datatype : DOUBLE\n",
    "    #                          - default : 5341\n",
    "    #                          - min : 0\n",
    "    #                          - max : 10000\n",
    "    #                          - unit : g m-2 d-1\n",
    "    #                          - uri : http://www1.clermont.inra.fr/siriusquality/?page_id=547\n",
    "    #                          - inputtype : variable\n",
    "    #            - name: soilDiffusionConstant\n",
    "    #                          - description : soil Diffusion Constant\n",
    "    #                          - parametercategory : soil\n",
    "    #                          - datatype : DOUBLE\n",
    "    #                          - default : 4.2\n",
    "    #                          - min : 0\n",
    "    #                          - max : 10\n",
    "    #                          - unit : \n",
    "    #                          - uri : http://www1.clermont.inra.fr/siriusquality/?page_id=547\n",
    "    #                          - inputtype : parameter\n",
    "    #- outputs:\n",
    "    #            - name: diffusionLimitedEvaporation\n",
    "    #                          - description : the evaporation from the diffusion limited soil \n",
    "    #                          - variablecategory : state\n",
    "    #                          - datatype : DOUBLE\n",
    "    #                          - min : 0\n",
    "    #                          - max : 5000\n",
    "    #                          - unit : g m-2 d-1\n",
    "    #                          - uri : http://www1.clermont.inra.fr/siriusquality/?page_id=547\n",
    "    if deficitOnTopLayers / 1000.0 <= 0.0:\n",
    "        diffusionLimitedEvaporation = 8.3 * 1000.0\n",
    "    else:\n",
    "        if deficitOnTopLayers / 1000.0 < 25.0:\n",
    "            diffusionLimitedEvaporation = 2.0 * soilDiffusionConstant * soilDiffusionConstant / (deficitOnTopLayers / 1000.0) * 1000.0\n",
    "        else:\n",
    "            diffusionLimitedEvaporation = 0.0\n",
    "    return diffusionLimitedEvaporation"
   ]
  },
  {
   "cell_type": "code",
   "execution_count": null,
   "metadata": {},
   "outputs": [],
   "source": [
    "params= model_diffusionlimitedevaporation(\n",
    "    soilDiffusionConstant = 4.2,\n",
    "    deficitOnTopLayers = 5341,\n",
    "     )\n",
    "print('diffusionLimitedEvaporation_estimated =')\n",
    "print(round(params, 3))\n",
    "# diffusionLimitedEvaporation_computed = 6605.505"
   ]
  }
 ],
 "metadata": {},
 "nbformat": 4,
 "nbformat_minor": 2
}

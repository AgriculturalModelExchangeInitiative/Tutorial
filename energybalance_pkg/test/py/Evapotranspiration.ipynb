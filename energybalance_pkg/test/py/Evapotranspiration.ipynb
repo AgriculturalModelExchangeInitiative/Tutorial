{
 "cells": [
  {
   "cell_type": "markdown",
   "metadata": {},
   "source": [
    "# Automatic generation of Notebook using PyCropML\n",
    "    This notebook implements a crop model."
   ]
  },
  {
   "cell_type": "markdown",
   "metadata": {},
   "source": [
    "### Model Evapotranspiration"
   ]
  },
  {
   "cell_type": "code",
   "execution_count": null,
   "metadata": {},
   "outputs": [],
   "source": [
    "# coding: utf8\n",
    "import numpy\n",
    "from math import *\n",
    "\n",
    "def model_evapotranspiration(isWindVpDefined = 1,\n",
    "         evapoTranspirationPriestlyTaylor = 449.367,\n",
    "         evapoTranspirationPenman = 830.958):\n",
    "    #- Description:\n",
    "    #            - Model Name: Evapotranspiration Model\n",
    "    #            - Author: Pierre Martre\n",
    "    #            - Reference: Modelling energy balance in the wheat crop model SiriusQuality2:\n",
    "    #            Evapotranspiration and canopy and soil temperature calculations\n",
    "    #            - Institution: INRA Montpellier\n",
    "    #            - Abstract: According to the availability of wind and/or vapor pressure daily data, the\n",
    "    #            SiriusQuality2 model calculates the evapotranspiration rate using the Penman (if wind\n",
    "    #            and vapor pressure data are available) (Penman 1948) or the Priestly-Taylor\n",
    "    #            (Priestley and Taylor 1972) method \n",
    "    #- inputs:\n",
    "    #            - name: isWindVpDefined\n",
    "    #                          - description : if wind and vapour pressure are defined\n",
    "    #                          - parametercategory : constant\n",
    "    #                          - datatype : INT\n",
    "    #                          - default : 1\n",
    "    #                          - min : 0\n",
    "    #                          - max : 1\n",
    "    #                          - unit : \n",
    "    #                          - uri : http://www1.clermont.inra.fr/siriusquality/?page_id=547\n",
    "    #                          - inputtype : parameter\n",
    "    #            - name: evapoTranspirationPriestlyTaylor\n",
    "    #                          - description : evapoTranspiration of Priestly Taylor \n",
    "    #                          - variablecategory : rate\n",
    "    #                          - default : 449.367\n",
    "    #                          - datatype : DOUBLE\n",
    "    #                          - min : 0\n",
    "    #                          - max : 10000\n",
    "    #                          - unit : mm\n",
    "    #                          - uri : http://www1.clermont.inra.fr/siriusquality/?page_id=547\n",
    "    #                          - inputtype : variable\n",
    "    #            - name: evapoTranspirationPenman\n",
    "    #                          - description : evapoTranspiration of Penman \n",
    "    #                          - datatype : DOUBLE\n",
    "    #                          - variablecategory : rate\n",
    "    #                          - default : 830.958\n",
    "    #                          - min : 0\n",
    "    #                          - max : 10000\n",
    "    #                          - unit : mm\n",
    "    #                          - uri : http://www1.clermont.inra.fr/siriusquality/?page_id=547\n",
    "    #                          - inputtype : variable\n",
    "    #- outputs:\n",
    "    #            - name: evapoTranspiration\n",
    "    #                          - description : evapoTranspiration\n",
    "    #                          - variablecategory : rate\n",
    "    #                          - datatype : DOUBLE\n",
    "    #                          - min : 0\n",
    "    #                          - max : 10000\n",
    "    #                          - unit : mm\n",
    "    #                          - uri : http://www1.clermont.inra.fr/siriusquality/?page_id=547\n",
    "    if isWindVpDefined == 1:\n",
    "        evapoTranspiration = evapoTranspirationPenman\n",
    "    else:\n",
    "        evapoTranspiration = evapoTranspirationPriestlyTaylor\n",
    "    return evapoTranspiration"
   ]
  },
  {
   "cell_type": "code",
   "execution_count": null,
   "metadata": {},
   "outputs": [],
   "source": [
    "params= model_evapotranspiration(\n",
    "    isWindVpDefined = 1,\n",
    "    evapoTranspirationPriestlyTaylor = 449.367,\n",
    "    evapoTranspirationPenman = 830.957,\n",
    "     )\n",
    "print('evapoTranspiration_estimated =')\n",
    "print(round(params, 3))\n",
    "# evapoTranspiration_computed = 830.957"
   ]
  }
 ],
 "metadata": {},
 "nbformat": 4,
 "nbformat_minor": 2
}

{
 "cells": [
  {
   "cell_type": "markdown",
   "id": "ce3ec68b",
   "metadata": {},
   "source": [
    "# Automatic generation of Notebook using PyCropML\n",
    "    This notebook implements a crop model."
   ]
  },
  {
   "cell_type": "markdown",
   "id": "6626dc37",
   "metadata": {},
   "source": [
    "### Model Snowaccumulation"
   ]
  },
  {
   "cell_type": "code",
   "execution_count": null,
   "id": "5de02a19",
   "metadata": {},
   "outputs": [],
   "source": [
    "import numpy\n",
    "from datetime import datetime\n",
    "import sys\n",
    "sys.path.append(\"../../src/py/snow_pkg\")\n",
    "from Snowaccumulation import model_snowaccumulation\n"
   ]
  },
  {
   "cell_type": "code",
   "execution_count": null,
   "id": "704ce631",
   "metadata": {},
   "outputs": [],
   "source": [
    "params= model_snowaccumulation(\n",
    "    trmax = 1.0,\n",
    "    tsmax = -2.0,\n",
    "    tmax = -1.0,\n",
    "    precip = 0.5,\n",
    "     )\n",
    "Snowaccu_estimated = round(params, 2)\n",
    "Snowaccu_computed = 0.33\n",
    "assert (Snowaccu_estimated == Snowaccu_computed)"
   ]
  }
 ],
 "metadata": {},
 "nbformat": 4,
 "nbformat_minor": 5
}

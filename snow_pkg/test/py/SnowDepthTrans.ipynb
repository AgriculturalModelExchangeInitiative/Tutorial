{
 "cells": [
  {
   "cell_type": "markdown",
   "id": "0a4ead65",
   "metadata": {},
   "source": [
    "# Automatic generation of Notebook using PyCropML\n",
    "    This notebook implements a crop model."
   ]
  },
  {
   "cell_type": "markdown",
   "id": "76423036",
   "metadata": {},
   "source": [
    "### Model Snowdepthtrans"
   ]
  },
  {
   "cell_type": "code",
   "execution_count": null,
   "id": "acbb8dbb",
   "metadata": {},
   "outputs": [],
   "source": [
    "import numpy\n",
    "from datetime import datetime\n",
    "import sys\n",
    "sys.path.append(\"../../src/py/snow_pkg\")\n",
    "from Snowdepthtrans import model_snowdepthtrans\n"
   ]
  },
  {
   "cell_type": "code",
   "execution_count": null,
   "id": "cbe2de75",
   "metadata": {},
   "outputs": [],
   "source": [
    "params= model_snowdepthtrans(\n",
    "    Pns = 100.0,\n",
    "    Sdepth = 0.050,\n",
    "     )\n",
    "Sdepth_cm_estimated = round(params, 2)\n",
    "Sdepth_cm_computed = 5\n",
    "assert (Sdepth_cm_estimated == Sdepth_cm_computed)"
   ]
  }
 ],
 "metadata": {},
 "nbformat": 4,
 "nbformat_minor": 5
}

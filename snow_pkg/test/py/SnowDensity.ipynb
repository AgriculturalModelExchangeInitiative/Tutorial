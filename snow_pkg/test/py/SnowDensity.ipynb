{
 "cells": [
  {
   "cell_type": "markdown",
   "id": "c68f6208",
   "metadata": {},
   "source": [
    "# Automatic generation of Notebook using PyCropML\n",
    "    This notebook implements a crop model."
   ]
  },
  {
   "cell_type": "markdown",
   "id": "ec671902",
   "metadata": {},
   "source": [
    "### Model Snowdensity"
   ]
  },
  {
   "cell_type": "code",
   "execution_count": null,
   "id": "e58f549c",
   "metadata": {},
   "outputs": [],
   "source": [
    "import numpy\n",
    "from datetime import datetime\n",
    "import sys\n",
    "sys.path.append(\"../../src/py/snow_pkg\")\n",
    "from Snowdensity import model_snowdensity\n"
   ]
  },
  {
   "cell_type": "code",
   "execution_count": null,
   "id": "6a9deafe",
   "metadata": {},
   "outputs": [],
   "source": [
    "params= model_snowdensity(\n",
    "    Sdry_t1 = 0.05,\n",
    "    Swet_t1 = 2,\n",
    "    Sdepth_t1 = 0.010,\n",
    "    ps_t1 = 200,\n",
    "     )\n",
    "ps_estimated = round(params, 2)\n",
    "ps_computed = 205\n",
    "assert (ps_estimated == ps_computed)"
   ]
  }
 ],
 "metadata": {},
 "nbformat": 4,
 "nbformat_minor": 5
}

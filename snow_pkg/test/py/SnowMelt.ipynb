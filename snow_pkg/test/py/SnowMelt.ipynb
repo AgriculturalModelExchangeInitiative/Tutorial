{
 "cells": [
  {
   "cell_type": "markdown",
   "id": "c2df2430",
   "metadata": {},
   "source": [
    "# Automatic generation of Notebook using PyCropML\n",
    "    This notebook implements a crop model."
   ]
  },
  {
   "cell_type": "markdown",
   "id": "19ed8773",
   "metadata": {},
   "source": [
    "### Model Snowmelt"
   ]
  },
  {
   "cell_type": "code",
   "execution_count": null,
   "id": "f4ee5cc2",
   "metadata": {},
   "outputs": [],
   "source": [
    "import numpy\n",
    "from datetime import datetime\n",
    "import sys\n",
    "sys.path.append(\"../../src/py/snow_pkg\")\n",
    "from Snowmelt import model_snowmelt\n"
   ]
  },
  {
   "cell_type": "code",
   "execution_count": null,
   "id": "d1fab042",
   "metadata": {},
   "outputs": [],
   "source": [
    "params= model_snowmelt(\n",
    "    M = 10.0,\n",
    "    ps = 200.0,\n",
    "     )\n",
    "Snowmelt_estimated = round(params, 2)\n",
    "Snowmelt_computed = 0.05\n",
    "assert (Snowmelt_estimated == Snowmelt_computed)"
   ]
  }
 ],
 "metadata": {},
 "nbformat": 4,
 "nbformat_minor": 5
}

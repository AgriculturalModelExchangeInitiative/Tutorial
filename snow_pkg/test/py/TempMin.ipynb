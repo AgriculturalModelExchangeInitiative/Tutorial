{
 "cells": [
  {
   "cell_type": "markdown",
   "id": "958689c4",
   "metadata": {},
   "source": [
    "# Automatic generation of Notebook using PyCropML\n",
    "    This notebook implements a crop model."
   ]
  },
  {
   "cell_type": "markdown",
   "id": "72d1f6f5",
   "metadata": {},
   "source": [
    "### Model Tempmin"
   ]
  },
  {
   "cell_type": "code",
   "execution_count": null,
   "id": "23640d63",
   "metadata": {},
   "outputs": [],
   "source": [
    "import numpy\n",
    "from datetime import datetime\n",
    "import sys\n",
    "sys.path.append(\"../../src/py/snow_pkg\")\n",
    "from Tempmin import model_tempmin\n"
   ]
  },
  {
   "cell_type": "code",
   "execution_count": null,
   "id": "094be365",
   "metadata": {},
   "outputs": [],
   "source": [
    "params= model_tempmin(\n",
    "    prof = 10.0,\n",
    "    tminseuil = -0.5,\n",
    "    tmaxseuil = 0.0,\n",
    "    Sdepth_cm = 5.2,\n",
    "    tmin = -0.05,\n",
    "     )\n",
    "tminrec_estimated = round(params, 2)\n",
    "tminrec_computed = -0.28\n",
    "assert (tminrec_estimated == tminrec_computed)"
   ]
  }
 ],
 "metadata": {},
 "nbformat": 4,
 "nbformat_minor": 5
}

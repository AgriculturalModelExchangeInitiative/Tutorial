{
 "cells": [
  {
   "cell_type": "markdown",
   "id": "4838cc1b",
   "metadata": {},
   "source": [
    "# Automatic generation of Notebook using PyCropML\n",
    "    This notebook implements a crop model."
   ]
  },
  {
   "cell_type": "markdown",
   "id": "2d6c9fb9",
   "metadata": {},
   "source": [
    "### Model Snowdry"
   ]
  },
  {
   "cell_type": "code",
   "execution_count": null,
   "id": "5b311836",
   "metadata": {},
   "outputs": [],
   "source": [
    "import numpy\n",
    "from datetime import datetime\n",
    "import sys\n",
    "sys.path.append(\"../../src/py/snow_pkg\")\n",
    "from Snowdry import model_snowdry\n"
   ]
  },
  {
   "cell_type": "code",
   "execution_count": null,
   "id": "c0a46017",
   "metadata": {},
   "outputs": [],
   "source": [
    "params= model_snowdry(\n",
    "    M = 5.0,\n",
    "    Mrf = 3.0,\n",
    "    Snowaccu = 2.0,\n",
    "    Sdry_t1 = 10.0,\n",
    "     )\n",
    "Sdry_estimated = round(params, 2)\n",
    "Sdry_computed = 10.0\n",
    "assert (Sdry_estimated == Sdry_computed)"
   ]
  }
 ],
 "metadata": {},
 "nbformat": 4,
 "nbformat_minor": 5
}

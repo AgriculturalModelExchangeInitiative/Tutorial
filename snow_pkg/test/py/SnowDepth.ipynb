{
 "cells": [
  {
   "cell_type": "markdown",
   "id": "dc0cae5b",
   "metadata": {},
   "source": [
    "# Automatic generation of Notebook using PyCropML\n",
    "    This notebook implements a crop model."
   ]
  },
  {
   "cell_type": "markdown",
   "id": "0e046720",
   "metadata": {},
   "source": [
    "### Model Snowdepth"
   ]
  },
  {
   "cell_type": "code",
   "execution_count": null,
   "id": "82447ad0",
   "metadata": {},
   "outputs": [],
   "source": [
    "import numpy\n",
    "from datetime import datetime\n",
    "import sys\n",
    "sys.path.append(\"../../src/py/snow_pkg\")\n",
    "from Snowdepth import model_snowdepth\n"
   ]
  },
  {
   "cell_type": "code",
   "execution_count": null,
   "id": "d97c60d7",
   "metadata": {},
   "outputs": [],
   "source": [
    "params= model_snowdepth(\n",
    "    E = 0.02,\n",
    "    rho = 100.0,\n",
    "    Snowaccu = 5,\n",
    "    Sdepth_t1 = 0.05,\n",
    "    Snowmelt = 0.012,\n",
    "     )\n",
    "Sdepth_estimated = round(params, 2)\n",
    "Sdepth_computed = 0.09\n",
    "assert (Sdepth_estimated == Sdepth_computed)"
   ]
  }
 ],
 "metadata": {},
 "nbformat": 4,
 "nbformat_minor": 5
}

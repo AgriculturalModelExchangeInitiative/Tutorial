{
 "cells": [
  {
   "cell_type": "markdown",
   "id": "c4e71881",
   "metadata": {},
   "source": [
    "# Automatic generation of Notebook using PyCropML\n",
    "    This notebook implements a crop model."
   ]
  },
  {
   "cell_type": "markdown",
   "id": "19c5e273",
   "metadata": {},
   "source": [
    "### Model Tavg"
   ]
  },
  {
   "cell_type": "code",
   "execution_count": null,
   "id": "ed3ff590",
   "metadata": {},
   "outputs": [],
   "source": [
    "import numpy\n",
    "from datetime import datetime\n",
    "import sys\n",
    "sys.path.append(\"../../src/py/snow_pkg\")\n",
    "from Tavg import model_tavg\n"
   ]
  },
  {
   "cell_type": "code",
   "execution_count": null,
   "id": "1cc92468",
   "metadata": {},
   "outputs": [],
   "source": [
    "params= model_tavg(\n",
    "    tmin = 0.5,\n",
    "    tmax = 2,\n",
    "     )\n",
    "tavg_estimated = round(params, 2)\n",
    "tavg_computed = 1.25\n",
    "assert (tavg_estimated == tavg_computed)"
   ]
  }
 ],
 "metadata": {},
 "nbformat": 4,
 "nbformat_minor": 5
}

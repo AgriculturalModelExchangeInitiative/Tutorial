{
 "cells": [
  {
   "cell_type": "markdown",
   "id": "b56ad5ae",
   "metadata": {},
   "source": [
    "# Automatic generation of Notebook using PyCropML\n",
    "    This notebook implements a crop model."
   ]
  },
  {
   "cell_type": "markdown",
   "id": "73c10b8b",
   "metadata": {},
   "source": [
    "### Model Tempmax"
   ]
  },
  {
   "cell_type": "code",
   "execution_count": null,
   "id": "6dd0fd35",
   "metadata": {},
   "outputs": [],
   "source": [
    "import numpy\n",
    "from datetime import datetime\n",
    "import sys\n",
    "sys.path.append(\"../../src/py/snow_pkg\")\n",
    "from Tempmax import model_tempmax\n"
   ]
  },
  {
   "cell_type": "code",
   "execution_count": null,
   "id": "dbd3f219",
   "metadata": {},
   "outputs": [],
   "source": [
    "params= model_tempmax(\n",
    "    prof = 10.0,\n",
    "    tminseuil = -0.5,\n",
    "    tmaxseuil = 0.0,\n",
    "    Sdepth_cm = 2.0,\n",
    "    tmax = -0.3,\n",
    "     )\n",
    "tmaxrec_estimated = round(params, 2)\n",
    "tmaxrec_computed = -0.24\n",
    "assert (tmaxrec_estimated == tmaxrec_computed)"
   ]
  }
 ],
 "metadata": {},
 "nbformat": 4,
 "nbformat_minor": 5
}

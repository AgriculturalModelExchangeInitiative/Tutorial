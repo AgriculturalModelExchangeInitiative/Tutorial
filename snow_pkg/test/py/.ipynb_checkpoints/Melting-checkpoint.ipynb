{
 "cells": [
  {
   "cell_type": "markdown",
   "id": "8892e2b5",
   "metadata": {},
   "source": [
    "# Automatic generation of Notebook using PyCropML\n",
    "    This notebook implements a crop model."
   ]
  },
  {
   "cell_type": "markdown",
   "id": "a9026e5d",
   "metadata": {},
   "source": [
    "### Model Melting"
   ]
  },
  {
   "cell_type": "code",
   "execution_count": null,
   "id": "a95dc032",
   "metadata": {},
   "outputs": [],
   "source": [
    "import syssys.append(\"..\\..\\src\\py\\snow_pkg\")\n",
    "from Melting import model_melting\n"
   ]
  },
  {
   "cell_type": "code",
   "execution_count": null,
   "id": "caa2ecb9",
   "metadata": {},
   "outputs": [],
   "source": [
    "params= model_melting(\n",
    "    Tmf = 0.5,\n",
    "    DKmax = 1.5,\n",
    "    Kmin = 2.0,\n",
    "    tavg = 1.5,\n",
    "    jul = 1,\n",
    "     )\n",
    "M_estimated = round(params, 2)\n",
    "M_computed = 2.02\n",
    "assert (M_estimated == M_computed)"
   ]
  }
 ],
 "metadata": {},
 "nbformat": 4,
 "nbformat_minor": 5
}

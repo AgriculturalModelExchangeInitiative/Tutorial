{
 "cells": [
  {
   "cell_type": "markdown",
   "id": "49ea0401",
   "metadata": {},
   "source": [
    "# Automatic generation of Notebook using PyCropML\n",
    "    This notebook implements a crop model."
   ]
  },
  {
   "cell_type": "markdown",
   "id": "2f9286ce",
   "metadata": {},
   "source": [
    "### Model Preciprec"
   ]
  },
  {
   "cell_type": "code",
   "execution_count": null,
   "id": "50f8ffa8",
   "metadata": {},
   "outputs": [],
   "source": [
    "import sys\n",
    "sys.append(\"..\\..\\src\\py\\snow_pkg\")\n",
    "from Preciprec import model_preciprec\n"
   ]
  },
  {
   "cell_type": "code",
   "execution_count": null,
   "id": "758c0a35",
   "metadata": {},
   "outputs": [],
   "source": [
    "params= model_preciprec(\n",
    "    rho = 100.0,\n",
    "    Sdepth = 0.087,\n",
    "    Sdepth_t1 = 0.085,\n",
    "    Mrf = 0.27,\n",
    "    Snowaccu = 0.23,\n",
    "    precip = 5.2,\n",
    "    Sdry_t1 = 10.0,\n",
    "    Sdry = 10.0,\n",
    "    Swet = 0.03,\n",
    "    Swet_t1 = 5.0,\n",
    "     )\n",
    "preciprec_estimated = round(params, 2)\n",
    "preciprec_computed = 4.5\n",
    "assert (preciprec_estimated == preciprec_computed)"
   ]
  }
 ],
 "metadata": {},
 "nbformat": 4,
 "nbformat_minor": 5
}

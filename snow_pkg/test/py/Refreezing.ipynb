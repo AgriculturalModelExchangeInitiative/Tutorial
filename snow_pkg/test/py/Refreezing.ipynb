{
 "cells": [
  {
   "cell_type": "markdown",
   "id": "fcac4b69",
   "metadata": {},
   "source": [
    "# Automatic generation of Notebook using PyCropML\n",
    "    This notebook implements a crop model."
   ]
  },
  {
   "cell_type": "markdown",
   "id": "1e332c0f",
   "metadata": {},
   "source": [
    "### Model Refreezing"
   ]
  },
  {
   "cell_type": "code",
   "execution_count": null,
   "id": "2926b280",
   "metadata": {},
   "outputs": [],
   "source": [
    "import numpy\n",
    "from datetime import datetime\n",
    "import sys\n",
    "sys.path.append(\"../../src/py/snow_pkg\")\n",
    "from Refreezing import model_refreezing\n"
   ]
  },
  {
   "cell_type": "code",
   "execution_count": null,
   "id": "dd5459b3",
   "metadata": {},
   "outputs": [],
   "source": [
    "params= model_refreezing(\n",
    "    Tmf = 0.5,\n",
    "    SWrf = 0.01,\n",
    "    tavg = -0.2,\n",
    "     )\n",
    "Mrf_estimated = round(params, 2)\n",
    "Mrf_computed = 0.01\n",
    "assert (Mrf_estimated == Mrf_computed)"
   ]
  }
 ],
 "metadata": {},
 "nbformat": 4,
 "nbformat_minor": 5
}

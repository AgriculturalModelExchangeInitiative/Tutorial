{
 "cells": [
  {
   "cell_type": "markdown",
   "id": "90b1e43c",
   "metadata": {},
   "source": [
    "# Automatic generation of Notebook using PyCropML\n",
    "    This notebook implements a crop model."
   ]
  },
  {
   "cell_type": "markdown",
   "id": "60592368",
   "metadata": {},
   "source": [
    "### Model Snowwet"
   ]
  },
  {
   "cell_type": "code",
   "execution_count": null,
   "id": "b0ccc2d6",
   "metadata": {},
   "outputs": [],
   "source": [
    "import numpy\n",
    "from datetime import datetime\n",
    "import sys\n",
    "sys.path.append(\"../../src/py/snow_pkg\")\n",
    "from Snowwet import model_snowwet\n"
   ]
  },
  {
   "cell_type": "code",
   "execution_count": null,
   "id": "85162817",
   "metadata": {},
   "outputs": [],
   "source": [
    "params= model_snowwet(\n",
    "    M = 0.0,\n",
    "    Mrf = 2.0,\n",
    "    Snowaccu = 2.0,\n",
    "    precip = 1.2,\n",
    "    Swet_t1 = 5.0,\n",
    "    Sdry = 0.279,\n",
    "     )\n",
    "Swet_estimated = round(params, 2)\n",
    "Swet_computed = 0.03\n",
    "assert (Swet_estimated == Swet_computed)"
   ]
  }
 ],
 "metadata": {},
 "nbformat": 4,
 "nbformat_minor": 5
}

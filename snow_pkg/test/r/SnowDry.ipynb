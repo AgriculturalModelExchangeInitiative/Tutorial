{
 "cells": [
  {
   "cell_type": "markdown",
   "id": "d90875e9",
   "metadata": {},
   "source": [
    "# Automatic generation of Notebook using PyCropML\n",
    "    This notebook implements a crop model."
   ]
  },
  {
   "cell_type": "markdown",
   "id": "f53d6b52",
   "metadata": {},
   "source": [
    "### Model Snowdry"
   ]
  },
  {
   "cell_type": "code",
   "execution_count": null,
   "id": "6ac14b2f",
   "metadata": {},
   "outputs": [],
   "source": [
    "source(\"../../src/r/snow_pkg/Snowdry.r\")\n",
    "library(assertthat)\n"
   ]
  },
  {
   "cell_type": "code",
   "execution_count": null,
   "id": "8339aa4c",
   "metadata": {},
   "outputs": [],
   "source": [
    "\n",
    "\n",
    "test_test_snow1<-function(){\n",
    "    params= model_snowdry(\n",
    "        M = 5.0,\n",
    "        Mrf = 3.0,\n",
    "        Snowaccu = 2.0,\n",
    "        Sdry_t1 = 10.0\n",
    "        )\n",
    "    Sdry_estimated = params$Sdry\n",
    "    Sdry_computed = 10.0\n",
    "    assert_that(all.equal(Sdry_estimated, Sdry_computed, scale=1, tol=0.2)==TRUE)\n",
    "}\n",
    "test_test_snow1()"
   ]
  }
 ],
 "metadata": {},
 "nbformat": 4,
 "nbformat_minor": 5
}

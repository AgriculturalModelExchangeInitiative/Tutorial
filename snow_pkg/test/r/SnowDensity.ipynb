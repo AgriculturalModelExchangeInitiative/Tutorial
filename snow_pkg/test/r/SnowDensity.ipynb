{
 "cells": [
  {
   "cell_type": "markdown",
   "id": "5656077d",
   "metadata": {},
   "source": [
    "# Automatic generation of Notebook using PyCropML\n",
    "    This notebook implements a crop model."
   ]
  },
  {
   "cell_type": "markdown",
   "id": "d047463a",
   "metadata": {},
   "source": [
    "### Model Snowdensity"
   ]
  },
  {
   "cell_type": "code",
   "execution_count": null,
   "id": "91561897",
   "metadata": {},
   "outputs": [],
   "source": [
    "source(\"../../src/r/snow_pkg/Snowdensity.r\")\n",
    "library(assertthat)\n"
   ]
  },
  {
   "cell_type": "code",
   "execution_count": null,
   "id": "f3fd8691",
   "metadata": {},
   "outputs": [],
   "source": [
    "\n",
    "\n",
    "test_test_snow1<-function(){\n",
    "    params= model_snowdensity(\n",
    "        Sdry_t1 = 0.05,\n",
    "        Swet_t1 = 2,\n",
    "        Sdepth_t1 = 0.010,\n",
    "        ps_t1 = 200\n",
    "        )\n",
    "    ps_estimated = params$ps\n",
    "    ps_computed = 205\n",
    "    assert_that(all.equal(ps_estimated, ps_computed, scale=1, tol=0.2)==TRUE)\n",
    "}\n",
    "test_test_snow1()"
   ]
  }
 ],
 "metadata": {},
 "nbformat": 4,
 "nbformat_minor": 5
}

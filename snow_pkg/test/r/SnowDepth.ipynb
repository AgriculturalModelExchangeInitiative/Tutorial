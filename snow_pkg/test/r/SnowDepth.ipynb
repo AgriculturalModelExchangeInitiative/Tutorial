{
 "cells": [
  {
   "cell_type": "markdown",
   "id": "5637abaf",
   "metadata": {},
   "source": [
    "# Automatic generation of Notebook using PyCropML\n",
    "    This notebook implements a crop model."
   ]
  },
  {
   "cell_type": "markdown",
   "id": "68b0be2b",
   "metadata": {},
   "source": [
    "### Model Snowdepth"
   ]
  },
  {
   "cell_type": "code",
   "execution_count": null,
   "id": "d478c8c4",
   "metadata": {},
   "outputs": [],
   "source": [
    "source(\"../../src/r/snow_pkg/Snowdepth.r\")\n",
    "library(assertthat)\n"
   ]
  },
  {
   "cell_type": "code",
   "execution_count": null,
   "id": "4236be83",
   "metadata": {},
   "outputs": [],
   "source": [
    "\n",
    "\n",
    "test_test_snow1<-function(){\n",
    "    params= model_snowdepth(\n",
    "        E = 0.02,\n",
    "        rho = 100.0,\n",
    "        Snowaccu = 5,\n",
    "        Sdepth_t1 = 0.05,\n",
    "        Snowmelt = 0.012\n",
    "        )\n",
    "    Sdepth_estimated = params$Sdepth\n",
    "    Sdepth_computed = 0.09\n",
    "    assert_that(all.equal(Sdepth_estimated, Sdepth_computed, scale=1, tol=0.2)==TRUE)\n",
    "}\n",
    "test_test_snow1()"
   ]
  }
 ],
 "metadata": {},
 "nbformat": 4,
 "nbformat_minor": 5
}

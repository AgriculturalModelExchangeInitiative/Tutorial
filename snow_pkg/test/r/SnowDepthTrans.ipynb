{
 "cells": [
  {
   "cell_type": "markdown",
   "id": "4754129e",
   "metadata": {},
   "source": [
    "# Automatic generation of Notebook using PyCropML\n",
    "    This notebook implements a crop model."
   ]
  },
  {
   "cell_type": "markdown",
   "id": "8a5a8dfb",
   "metadata": {},
   "source": [
    "### Model Snowdepthtrans"
   ]
  },
  {
   "cell_type": "code",
   "execution_count": null,
   "id": "866cdd56",
   "metadata": {},
   "outputs": [],
   "source": [
    "source(\"../../src/r/snow_pkg/Snowdepthtrans.r\")\n",
    "library(assertthat)\n"
   ]
  },
  {
   "cell_type": "code",
   "execution_count": null,
   "id": "07d7de01",
   "metadata": {},
   "outputs": [],
   "source": [
    "\n",
    "\n",
    "test_test_snow1<-function(){\n",
    "    params= model_snowdepthtrans(\n",
    "        Pns = 100.0,\n",
    "        Sdepth = 0.050\n",
    "        )\n",
    "    Sdepth_cm_estimated = params$Sdepth_cm\n",
    "    Sdepth_cm_computed = 5\n",
    "    assert_that(all.equal(Sdepth_cm_estimated, Sdepth_cm_computed, scale=1, tol=0.2)==TRUE)\n",
    "}\n",
    "test_test_snow1()"
   ]
  }
 ],
 "metadata": {},
 "nbformat": 4,
 "nbformat_minor": 5
}

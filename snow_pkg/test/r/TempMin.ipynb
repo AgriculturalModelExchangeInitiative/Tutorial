{
 "cells": [
  {
   "cell_type": "markdown",
   "id": "3f4fba7d",
   "metadata": {},
   "source": [
    "# Automatic generation of Notebook using PyCropML\n",
    "    This notebook implements a crop model."
   ]
  },
  {
   "cell_type": "markdown",
   "id": "d17b32b4",
   "metadata": {},
   "source": [
    "### Model Tempmin"
   ]
  },
  {
   "cell_type": "code",
   "execution_count": null,
   "id": "d69e7709",
   "metadata": {},
   "outputs": [],
   "source": [
    "source(\"../../src/r/snow_pkg/Tempmin.r\")\n",
    "library(assertthat)\n"
   ]
  },
  {
   "cell_type": "code",
   "execution_count": null,
   "id": "99460b57",
   "metadata": {},
   "outputs": [],
   "source": [
    "\n",
    "\n",
    "test_test_snow1<-function(){\n",
    "    params= model_tempmin(\n",
    "        prof = 10.0,\n",
    "        tminseuil = -0.5,\n",
    "        tmaxseuil = 0.0,\n",
    "        Sdepth_cm = 5.2,\n",
    "        tmin = -0.05\n",
    "        )\n",
    "    tminrec_estimated = params$tminrec\n",
    "    tminrec_computed = -0.28\n",
    "    assert_that(all.equal(tminrec_estimated, tminrec_computed, scale=1, tol=0.2)==TRUE)\n",
    "}\n",
    "test_test_snow1()"
   ]
  }
 ],
 "metadata": {},
 "nbformat": 4,
 "nbformat_minor": 5
}

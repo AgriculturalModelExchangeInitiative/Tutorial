{
 "cells": [
  {
   "cell_type": "markdown",
   "id": "99035908",
   "metadata": {},
   "source": [
    "# Automatic generation of Notebook using PyCropML\n",
    "    This notebook implements a crop model."
   ]
  },
  {
   "cell_type": "markdown",
   "id": "dd7a9a7a",
   "metadata": {},
   "source": [
    "### Model Preciprec"
   ]
  },
  {
   "cell_type": "code",
   "execution_count": null,
   "id": "996b6bc8",
   "metadata": {},
   "outputs": [],
   "source": [
    "source(\"../../src/r/snow_pkg/Preciprec.r\")\n",
    "library(assertthat)\n"
   ]
  },
  {
   "cell_type": "code",
   "execution_count": null,
   "id": "5d3f96bc",
   "metadata": {},
   "outputs": [],
   "source": [
    "\n",
    "\n",
    "test_test_snow1<-function(){\n",
    "    params= model_preciprec(\n",
    "        rho = 100.0,\n",
    "        Sdepth = 0.087,\n",
    "        Sdepth_t1 = 0.085,\n",
    "        Mrf = 0.27,\n",
    "        Snowaccu = 0.23,\n",
    "        precip = 5.2,\n",
    "        Sdry_t1 = 10.0,\n",
    "        Sdry = 10.0,\n",
    "        Swet = 0.03,\n",
    "        Swet_t1 = 5.0\n",
    "        )\n",
    "    preciprec_estimated = params$preciprec\n",
    "    preciprec_computed = 4.5\n",
    "    assert_that(all.equal(preciprec_estimated, preciprec_computed, scale=1, tol=0.2)==TRUE)\n",
    "}\n",
    "test_test_snow1()"
   ]
  }
 ],
 "metadata": {},
 "nbformat": 4,
 "nbformat_minor": 5
}

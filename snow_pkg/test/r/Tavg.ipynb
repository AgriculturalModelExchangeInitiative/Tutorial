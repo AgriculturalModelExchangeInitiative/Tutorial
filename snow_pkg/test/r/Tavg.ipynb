{
 "cells": [
  {
   "cell_type": "markdown",
   "id": "eba1be3d",
   "metadata": {},
   "source": [
    "# Automatic generation of Notebook using PyCropML\n",
    "    This notebook implements a crop model."
   ]
  },
  {
   "cell_type": "markdown",
   "id": "12af40ea",
   "metadata": {},
   "source": [
    "### Model Tavg"
   ]
  },
  {
   "cell_type": "code",
   "execution_count": null,
   "id": "1700233e",
   "metadata": {},
   "outputs": [],
   "source": [
    "source(\"../../src/r/snow_pkg/Tavg.r\")\n",
    "library(assertthat)\n"
   ]
  },
  {
   "cell_type": "code",
   "execution_count": null,
   "id": "b5330161",
   "metadata": {},
   "outputs": [],
   "source": [
    "\n",
    "\n",
    "test_test_snow1<-function(){\n",
    "    params= model_tavg(\n",
    "        tmin = 0.5,\n",
    "        tmax = 2\n",
    "        )\n",
    "    tavg_estimated = params$tavg\n",
    "    tavg_computed = 1.25\n",
    "    assert_that(all.equal(tavg_estimated, tavg_computed, scale=1, tol=0.2)==TRUE)\n",
    "}\n",
    "test_test_snow1()"
   ]
  }
 ],
 "metadata": {},
 "nbformat": 4,
 "nbformat_minor": 5
}

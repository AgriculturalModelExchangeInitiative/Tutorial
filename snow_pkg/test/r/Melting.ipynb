{
 "cells": [
  {
   "cell_type": "markdown",
   "id": "73c59d1e",
   "metadata": {},
   "source": [
    "# Automatic generation of Notebook using PyCropML\n",
    "    This notebook implements a crop model."
   ]
  },
  {
   "cell_type": "markdown",
   "id": "00b217d5",
   "metadata": {},
   "source": [
    "### Model Melting"
   ]
  },
  {
   "cell_type": "code",
   "execution_count": null,
   "id": "1ac3080b",
   "metadata": {},
   "outputs": [],
   "source": [
    "source(\"../../src/r/snow_pkg/Melting.r\")\n",
    "library(assertthat)\n"
   ]
  },
  {
   "cell_type": "code",
   "execution_count": null,
   "id": "114fa8ce",
   "metadata": {},
   "outputs": [],
   "source": [
    "\n",
    "\n",
    "test_test_snow1<-function(){\n",
    "    params= model_melting(\n",
    "        Tmf = 0.5,\n",
    "        DKmax = 1.5,\n",
    "        Kmin = 2.0,\n",
    "        tavg = 1.5,\n",
    "        jul = 1\n",
    "        )\n",
    "    M_estimated = params$M\n",
    "    M_computed = 2.02\n",
    "    assert_that(all.equal(M_estimated, M_computed, scale=1, tol=0.2)==TRUE)\n",
    "}\n",
    "test_test_snow1()"
   ]
  }
 ],
 "metadata": {},
 "nbformat": 4,
 "nbformat_minor": 5
}

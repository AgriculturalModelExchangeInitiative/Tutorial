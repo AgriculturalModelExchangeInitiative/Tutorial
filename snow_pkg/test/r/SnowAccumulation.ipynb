{
 "cells": [
  {
   "cell_type": "markdown",
   "id": "ba330bd7",
   "metadata": {},
   "source": [
    "# Automatic generation of Notebook using PyCropML\n",
    "    This notebook implements a crop model."
   ]
  },
  {
   "cell_type": "markdown",
   "id": "e76a5aff",
   "metadata": {},
   "source": [
    "### Model Snowaccumulation"
   ]
  },
  {
   "cell_type": "code",
   "execution_count": null,
   "id": "a4d724c8",
   "metadata": {},
   "outputs": [],
   "source": [
    "source(\"../../src/r/snow_pkg/Snowaccumulation.r\")\n",
    "library(assertthat)\n"
   ]
  },
  {
   "cell_type": "code",
   "execution_count": null,
   "id": "ff2ea395",
   "metadata": {},
   "outputs": [],
   "source": [
    "\n",
    "\n",
    "test_test_snow1<-function(){\n",
    "    params= model_snowaccumulation(\n",
    "        trmax = 1.0,\n",
    "        tsmax = -2.0,\n",
    "        tmax = -1.0,\n",
    "        precip = 0.5\n",
    "        )\n",
    "    Snowaccu_estimated = params$Snowaccu\n",
    "    Snowaccu_computed = 0.33\n",
    "    assert_that(all.equal(Snowaccu_estimated, Snowaccu_computed, scale=1, tol=0.2)==TRUE)\n",
    "}\n",
    "test_test_snow1()"
   ]
  }
 ],
 "metadata": {},
 "nbformat": 4,
 "nbformat_minor": 5
}

{
 "cells": [
  {
   "cell_type": "markdown",
   "id": "0299fc0f",
   "metadata": {},
   "source": [
    "# Automatic generation of Notebook using PyCropML\n",
    "    This notebook implements a crop model."
   ]
  },
  {
   "cell_type": "markdown",
   "id": "7c3b5a21",
   "metadata": {},
   "source": [
    "### Model Snowwet"
   ]
  },
  {
   "cell_type": "code",
   "execution_count": null,
   "id": "5a84e41a",
   "metadata": {},
   "outputs": [],
   "source": [
    "source(\"../../src/r/snow_pkg/Snowwet.r\")\n",
    "library(assertthat)\n"
   ]
  },
  {
   "cell_type": "code",
   "execution_count": null,
   "id": "b0aef6d3",
   "metadata": {},
   "outputs": [],
   "source": [
    "\n",
    "\n",
    "test_test_snow1<-function(){\n",
    "    params= model_snowwet(\n",
    "        M = 0.0,\n",
    "        Mrf = 2.0,\n",
    "        Snowaccu = 2.0,\n",
    "        precip = 1.2,\n",
    "        Swet_t1 = 5.0,\n",
    "        Sdry = 0.279\n",
    "        )\n",
    "    Swet_estimated = params$Swet\n",
    "    Swet_computed = 0.03\n",
    "    assert_that(all.equal(Swet_estimated, Swet_computed, scale=1, tol=0.2)==TRUE)\n",
    "}\n",
    "test_test_snow1()"
   ]
  }
 ],
 "metadata": {},
 "nbformat": 4,
 "nbformat_minor": 5
}

{
 "cells": [
  {
   "cell_type": "markdown",
   "id": "8dff2022",
   "metadata": {},
   "source": [
    "# Automatic generation of Notebook using PyCropML\n",
    "    This notebook implements a crop model."
   ]
  },
  {
   "cell_type": "markdown",
   "id": "5fdf5a23",
   "metadata": {},
   "source": [
    "### Model Refreezing"
   ]
  },
  {
   "cell_type": "code",
   "execution_count": null,
   "id": "07ed786a",
   "metadata": {},
   "outputs": [],
   "source": [
    "source(\"../../src/r/snow_pkg/Refreezing.r\")\n",
    "library(assertthat)\n"
   ]
  },
  {
   "cell_type": "code",
   "execution_count": null,
   "id": "943ad3f2",
   "metadata": {},
   "outputs": [],
   "source": [
    "\n",
    "\n",
    "test_test_snow1<-function(){\n",
    "    params= model_refreezing(\n",
    "        Tmf = 0.5,\n",
    "        SWrf = 0.01,\n",
    "        tavg = -0.2\n",
    "        )\n",
    "    Mrf_estimated = params$Mrf\n",
    "    Mrf_computed = 0.01\n",
    "    assert_that(all.equal(Mrf_estimated, Mrf_computed, scale=1, tol=0.2)==TRUE)\n",
    "}\n",
    "test_test_snow1()"
   ]
  }
 ],
 "metadata": {},
 "nbformat": 4,
 "nbformat_minor": 5
}

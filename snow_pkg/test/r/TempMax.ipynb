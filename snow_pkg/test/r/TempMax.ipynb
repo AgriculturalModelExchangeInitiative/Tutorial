{
 "cells": [
  {
   "cell_type": "markdown",
   "id": "2717cda2",
   "metadata": {},
   "source": [
    "# Automatic generation of Notebook using PyCropML\n",
    "    This notebook implements a crop model."
   ]
  },
  {
   "cell_type": "markdown",
   "id": "ff8a583f",
   "metadata": {},
   "source": [
    "### Model Tempmax"
   ]
  },
  {
   "cell_type": "code",
   "execution_count": null,
   "id": "52159f94",
   "metadata": {},
   "outputs": [],
   "source": [
    "source(\"../../src/r/snow_pkg/Tempmax.r\")\n",
    "library(assertthat)\n"
   ]
  },
  {
   "cell_type": "code",
   "execution_count": null,
   "id": "4c0db8d3",
   "metadata": {},
   "outputs": [],
   "source": [
    "\n",
    "\n",
    "test_test_snow1<-function(){\n",
    "    params= model_tempmax(\n",
    "        prof = 10.0,\n",
    "        tminseuil = -0.5,\n",
    "        tmaxseuil = 0.0,\n",
    "        Sdepth_cm = 2.0,\n",
    "        tmax = -0.3\n",
    "        )\n",
    "    tmaxrec_estimated = params$tmaxrec\n",
    "    tmaxrec_computed = -0.24\n",
    "    assert_that(all.equal(tmaxrec_estimated, tmaxrec_computed, scale=1, tol=0.2)==TRUE)\n",
    "}\n",
    "test_test_snow1()"
   ]
  }
 ],
 "metadata": {},
 "nbformat": 4,
 "nbformat_minor": 5
}

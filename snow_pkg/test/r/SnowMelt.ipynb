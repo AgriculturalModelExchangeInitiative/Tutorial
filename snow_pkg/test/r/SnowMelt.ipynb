{
 "cells": [
  {
   "cell_type": "markdown",
   "id": "1820b476",
   "metadata": {},
   "source": [
    "# Automatic generation of Notebook using PyCropML\n",
    "    This notebook implements a crop model."
   ]
  },
  {
   "cell_type": "markdown",
   "id": "a314fc4f",
   "metadata": {},
   "source": [
    "### Model Snowmelt"
   ]
  },
  {
   "cell_type": "code",
   "execution_count": null,
   "id": "cd275eb2",
   "metadata": {},
   "outputs": [],
   "source": [
    "source(\"../../src/r/snow_pkg/Snowmelt.r\")\n",
    "library(assertthat)\n"
   ]
  },
  {
   "cell_type": "code",
   "execution_count": null,
   "id": "f04247d1",
   "metadata": {},
   "outputs": [],
   "source": [
    "\n",
    "\n",
    "test_test_snow1<-function(){\n",
    "    params= model_snowmelt(\n",
    "        M = 10.0,\n",
    "        ps = 200.0\n",
    "        )\n",
    "    Snowmelt_estimated = params$Snowmelt\n",
    "    Snowmelt_computed = 0.05\n",
    "    assert_that(all.equal(Snowmelt_estimated, Snowmelt_computed, scale=1, tol=0.2)==TRUE)\n",
    "}\n",
    "test_test_snow1()"
   ]
  }
 ],
 "metadata": {},
 "nbformat": 4,
 "nbformat_minor": 5
}
